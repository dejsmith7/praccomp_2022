{
  "nbformat": 4,
  "nbformat_minor": 0,
  "metadata": {
    "colab": {
      "provenance": [],
      "authorship_tag": "ABX9TyP+Di4GK85Mbdx35GlEfVsx",
      "include_colab_link": true
    },
    "kernelspec": {
      "name": "python3",
      "display_name": "Python 3"
    },
    "language_info": {
      "name": "python"
    }
  },
  "cells": [
    {
      "cell_type": "markdown",
      "metadata": {
        "id": "view-in-github",
        "colab_type": "text"
      },
      "source": [
        "<a href=\"https://colab.research.google.com/github/dejsmith7/praccomp_2022/blob/master/PracComp2022.ipynb\" target=\"_parent\"><img src=\"https://colab.research.google.com/assets/colab-badge.svg\" alt=\"Open In Colab\"/></a>"
      ]
    },
    {
      "cell_type": "markdown",
      "source": [
        "#Basics"
      ],
      "metadata": {
        "id": "qnqoVYzo7yOC"
      }
    },
    {
      "cell_type": "markdown",
      "source": [
        "##Markdown Carry Over"
      ],
      "metadata": {
        "id": "8mHG6-kP8IeQ"
      }
    },
    {
      "cell_type": "markdown",
      "source": [
        "\n",
        "\n",
        "*   Use asterices\n",
        "*   to create\n",
        "*   unordered lists.\n",
        "1. Use numbers\n",
        "2. to create\n",
        "3. ordered lists.\n",
        "\n",
        "\n",
        "\n",
        "*   Top level\n",
        "\n",
        "Indent one\n",
        "Indent two\n",
        "    SubIndent one\n",
        "    SubIndent two\n",
        "Line breaks dont matter.\n",
        "\n",
        "But blank lines create new paragraphs.\n",
        "\n",
        "(Website Link)\n",
        "\n",
        "\n",
        "\n",
        "\n",
        "\n",
        "\n",
        "\n"
      ],
      "metadata": {
        "id": "PdKHFiy98L9u"
      }
    },
    {
      "cell_type": "markdown",
      "source": [
        "##Python Basics\n"
      ],
      "metadata": {
        "id": "AdMxT0rJ93uD"
      }
    },
    {
      "cell_type": "markdown",
      "source": [
        "##Variables"
      ],
      "metadata": {
        "id": "Xf5LA7fk9-Qg"
      }
    },
    {
      "cell_type": "code",
      "source": [
        "myage = 24\n",
        "given_name = 'Dejah'\n",
        "family_name = 'Smith'"
      ],
      "metadata": {
        "id": "1hyyn0dL95w8"
      },
      "execution_count": 2,
      "outputs": []
    },
    {
      "cell_type": "code",
      "source": [
        "print(given_name, 'is', myage, 'years old.')"
      ],
      "metadata": {
        "colab": {
          "base_uri": "https://localhost:8080/"
        },
        "id": "wrMe7Sfo-QLT",
        "outputId": "962b3efa-cf99-461d-9bde-8e6b346ead8a"
      },
      "execution_count": 3,
      "outputs": [
        {
          "output_type": "stream",
          "name": "stdout",
          "text": [
            "Dejah is 24 years old.\n"
          ]
        }
      ]
    },
    {
      "cell_type": "code",
      "source": [
        "#type(myage)\n",
        "#type(given_name)\n",
        "\n",
        "print(type(myage), type(given_name))"
      ],
      "metadata": {
        "colab": {
          "base_uri": "https://localhost:8080/"
        },
        "id": "MIgScSF7_mO5",
        "outputId": "4a860af9-2eb0-4042-9b10-d1e1a863be1a"
      },
      "execution_count": 4,
      "outputs": [
        {
          "output_type": "stream",
          "name": "stdout",
          "text": [
            "<class 'int'> <class 'str'>\n"
          ]
        }
      ]
    },
    {
      "cell_type": "code",
      "source": [
        "myage_str = str(myage)\n",
        "\n",
        "type(myage_str)"
      ],
      "metadata": {
        "id": "Ny4BlJ6d_2kU",
        "colab": {
          "base_uri": "https://localhost:8080/"
        },
        "outputId": "fca30f08-8204-4149-9596-e14c373b8b1d"
      },
      "execution_count": 5,
      "outputs": [
        {
          "output_type": "execute_result",
          "data": {
            "text/plain": [
              "str"
            ]
          },
          "metadata": {},
          "execution_count": 5
        }
      ]
    },
    {
      "cell_type": "code",
      "source": [
        "print(myage +1)"
      ],
      "metadata": {
        "colab": {
          "base_uri": "https://localhost:8080/"
        },
        "id": "8hP9qUrij___",
        "outputId": "c176ad3c-32da-43b5-f5c6-cc4be8d73034"
      },
      "execution_count": 8,
      "outputs": [
        {
          "output_type": "stream",
          "name": "stdout",
          "text": [
            "25\n"
          ]
        }
      ]
    },
    {
      "cell_type": "code",
      "source": [
        "print(myage_str + str(1))"
      ],
      "metadata": {
        "colab": {
          "base_uri": "https://localhost:8080/"
        },
        "id": "pU-y08i5kO1-",
        "outputId": "2c9e10b8-85fd-48ce-c3c3-5c5a7068066d"
      },
      "execution_count": 17,
      "outputs": [
        {
          "output_type": "stream",
          "name": "stdout",
          "text": [
            "241\n"
          ]
        }
      ]
    },
    {
      "cell_type": "code",
      "source": [
        "print(myage + myage)"
      ],
      "metadata": {
        "colab": {
          "base_uri": "https://localhost:8080/"
        },
        "id": "yPI7XZeAlSJ5",
        "outputId": "f9f54e9d-c953-4494-beec-45a12917fb3f"
      },
      "execution_count": 18,
      "outputs": [
        {
          "output_type": "stream",
          "name": "stdout",
          "text": [
            "48\n"
          ]
        }
      ]
    },
    {
      "cell_type": "code",
      "source": [
        "print(myage_str + myage_str)"
      ],
      "metadata": {
        "colab": {
          "base_uri": "https://localhost:8080/"
        },
        "id": "yMxl5wURlfEb",
        "outputId": "e83e109f-1e6d-4504-ea01-8c649badb250"
      },
      "execution_count": 19,
      "outputs": [
        {
          "output_type": "stream",
          "name": "stdout",
          "text": [
            "2424\n"
          ]
        }
      ]
    },
    {
      "cell_type": "markdown",
      "source": [
        "###Indexing"
      ],
      "metadata": {
        "id": "NidVudWLlpCD"
      }
    }
  ]
}