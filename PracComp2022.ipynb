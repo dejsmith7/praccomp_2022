{
  "nbformat": 4,
  "nbformat_minor": 0,
  "metadata": {
    "colab": {
      "provenance": [],
      "authorship_tag": "ABX9TyNm8pbrBjS17SrV65DuLKec",
      "include_colab_link": true
    },
    "kernelspec": {
      "name": "python3",
      "display_name": "Python 3"
    },
    "language_info": {
      "name": "python"
    }
  },
  "cells": [
    {
      "cell_type": "markdown",
      "metadata": {
        "id": "view-in-github",
        "colab_type": "text"
      },
      "source": [
        "<a href=\"https://colab.research.google.com/github/dejsmith7/praccomp_2022/blob/master/PracComp2022.ipynb\" target=\"_parent\"><img src=\"https://colab.research.google.com/assets/colab-badge.svg\" alt=\"Open In Colab\"/></a>"
      ]
    },
    {
      "cell_type": "markdown",
      "source": [
        "#Basics"
      ],
      "metadata": {
        "id": "qnqoVYzo7yOC"
      }
    },
    {
      "cell_type": "markdown",
      "source": [
        "##Markdown Carry Over"
      ],
      "metadata": {
        "id": "8mHG6-kP8IeQ"
      }
    },
    {
      "cell_type": "markdown",
      "source": [
        "\n",
        "\n",
        "*   Use asterices\n",
        "*   to create\n",
        "*   unordered lists.\n",
        "1. Use numbers\n",
        "2. to create\n",
        "3. ordered lists.\n",
        "\n",
        "\n",
        "\n",
        "*   Top level\n",
        "\n",
        "Indent one\n",
        "Indent two\n",
        "    SubIndent one\n",
        "    SubIndent two\n",
        "Line breaks dont matter.\n",
        "\n",
        "But blank lines create new paragraphs.\n",
        "\n",
        "(Website Link)\n",
        "\n",
        "\n",
        "\n",
        "\n",
        "\n",
        "\n",
        "\n"
      ],
      "metadata": {
        "id": "PdKHFiy98L9u"
      }
    },
    {
      "cell_type": "markdown",
      "source": [
        "##Python Basics\n"
      ],
      "metadata": {
        "id": "AdMxT0rJ93uD"
      }
    },
    {
      "cell_type": "markdown",
      "source": [
        "##Variables"
      ],
      "metadata": {
        "id": "Xf5LA7fk9-Qg"
      }
    },
    {
      "cell_type": "code",
      "source": [
        "myage = 24\n",
        "given_name = 'Dejah'\n",
        "family_name = 'Smith'"
      ],
      "metadata": {
        "id": "1hyyn0dL95w8"
      },
      "execution_count": null,
      "outputs": []
    },
    {
      "cell_type": "code",
      "source": [
        "print(given_name, 'is', myage, 'years old.')"
      ],
      "metadata": {
        "colab": {
          "base_uri": "https://localhost:8080/"
        },
        "id": "wrMe7Sfo-QLT",
        "outputId": "962b3efa-cf99-461d-9bde-8e6b346ead8a"
      },
      "execution_count": null,
      "outputs": [
        {
          "output_type": "stream",
          "name": "stdout",
          "text": [
            "Dejah is 24 years old.\n"
          ]
        }
      ]
    },
    {
      "cell_type": "code",
      "source": [
        "#type(myage)\n",
        "#type(given_name)\n",
        "\n",
        "print(type(myage), type(given_name))"
      ],
      "metadata": {
        "colab": {
          "base_uri": "https://localhost:8080/"
        },
        "id": "MIgScSF7_mO5",
        "outputId": "4a860af9-2eb0-4042-9b10-d1e1a863be1a"
      },
      "execution_count": null,
      "outputs": [
        {
          "output_type": "stream",
          "name": "stdout",
          "text": [
            "<class 'int'> <class 'str'>\n"
          ]
        }
      ]
    },
    {
      "cell_type": "code",
      "source": [
        "myage_str = str(myage)\n",
        "\n",
        "type(myage_str)"
      ],
      "metadata": {
        "id": "Ny4BlJ6d_2kU",
        "colab": {
          "base_uri": "https://localhost:8080/"
        },
        "outputId": "fca30f08-8204-4149-9596-e14c373b8b1d"
      },
      "execution_count": null,
      "outputs": [
        {
          "output_type": "execute_result",
          "data": {
            "text/plain": [
              "str"
            ]
          },
          "metadata": {},
          "execution_count": 5
        }
      ]
    },
    {
      "cell_type": "code",
      "source": [
        "print(myage +1)"
      ],
      "metadata": {
        "colab": {
          "base_uri": "https://localhost:8080/"
        },
        "id": "8hP9qUrij___",
        "outputId": "c176ad3c-32da-43b5-f5c6-cc4be8d73034"
      },
      "execution_count": null,
      "outputs": [
        {
          "output_type": "stream",
          "name": "stdout",
          "text": [
            "25\n"
          ]
        }
      ]
    },
    {
      "cell_type": "code",
      "source": [
        "print(myage_str + str(1))"
      ],
      "metadata": {
        "colab": {
          "base_uri": "https://localhost:8080/"
        },
        "id": "pU-y08i5kO1-",
        "outputId": "2c9e10b8-85fd-48ce-c3c3-5c5a7068066d"
      },
      "execution_count": null,
      "outputs": [
        {
          "output_type": "stream",
          "name": "stdout",
          "text": [
            "241\n"
          ]
        }
      ]
    },
    {
      "cell_type": "code",
      "source": [
        "print(myage + myage)"
      ],
      "metadata": {
        "colab": {
          "base_uri": "https://localhost:8080/"
        },
        "id": "yPI7XZeAlSJ5",
        "outputId": "f9f54e9d-c953-4494-beec-45a12917fb3f"
      },
      "execution_count": null,
      "outputs": [
        {
          "output_type": "stream",
          "name": "stdout",
          "text": [
            "48\n"
          ]
        }
      ]
    },
    {
      "cell_type": "code",
      "source": [
        "print(myage_str + myage_str)"
      ],
      "metadata": {
        "colab": {
          "base_uri": "https://localhost:8080/"
        },
        "id": "yMxl5wURlfEb",
        "outputId": "e83e109f-1e6d-4504-ea01-8c649badb250"
      },
      "execution_count": null,
      "outputs": [
        {
          "output_type": "stream",
          "name": "stdout",
          "text": [
            "2424\n"
          ]
        }
      ]
    },
    {
      "cell_type": "markdown",
      "source": [
        "###Indexing"
      ],
      "metadata": {
        "id": "NidVudWLlpCD"
      }
    },
    {
      "cell_type": "markdown",
      "source": [
        "## Reading Tables as Data"
      ],
      "metadata": {
        "id": "4ymBR2Y9sHU3"
      }
    },
    {
      "cell_type": "code",
      "source": [
        "import pandas as pd"
      ],
      "metadata": {
        "id": "SB-QY_HHsReW"
      },
      "execution_count": null,
      "outputs": []
    },
    {
      "cell_type": "code",
      "source": [
        "help(pd)"
      ],
      "metadata": {
        "colab": {
          "base_uri": "https://localhost:8080/"
        },
        "id": "XkzXF5iZsfh4",
        "outputId": "afeeda99-55a7-4549-aa08-5785b53da43c"
      },
      "execution_count": null,
      "outputs": [
        {
          "output_type": "stream",
          "name": "stdout",
          "text": [
            "Help on package pandas:\n",
            "\n",
            "NAME\n",
            "    pandas\n",
            "\n",
            "DESCRIPTION\n",
            "    pandas - a powerful data analysis and manipulation library for Python\n",
            "    =====================================================================\n",
            "    \n",
            "    **pandas** is a Python package providing fast, flexible, and expressive data\n",
            "    structures designed to make working with \"relational\" or \"labeled\" data both\n",
            "    easy and intuitive. It aims to be the fundamental high-level building block for\n",
            "    doing practical, **real world** data analysis in Python. Additionally, it has\n",
            "    the broader goal of becoming **the most powerful and flexible open source data\n",
            "    analysis / manipulation tool available in any language**. It is already well on\n",
            "    its way toward this goal.\n",
            "    \n",
            "    Main Features\n",
            "    -------------\n",
            "    Here are just a few of the things that pandas does well:\n",
            "    \n",
            "      - Easy handling of missing data in floating point as well as non-floating\n",
            "        point data.\n",
            "      - Size mutability: columns can be inserted and deleted from DataFrame and\n",
            "        higher dimensional objects\n",
            "      - Automatic and explicit data alignment: objects can be explicitly aligned\n",
            "        to a set of labels, or the user can simply ignore the labels and let\n",
            "        `Series`, `DataFrame`, etc. automatically align the data for you in\n",
            "        computations.\n",
            "      - Powerful, flexible group by functionality to perform split-apply-combine\n",
            "        operations on data sets, for both aggregating and transforming data.\n",
            "      - Make it easy to convert ragged, differently-indexed data in other Python\n",
            "        and NumPy data structures into DataFrame objects.\n",
            "      - Intelligent label-based slicing, fancy indexing, and subsetting of large\n",
            "        data sets.\n",
            "      - Intuitive merging and joining data sets.\n",
            "      - Flexible reshaping and pivoting of data sets.\n",
            "      - Hierarchical labeling of axes (possible to have multiple labels per tick).\n",
            "      - Robust IO tools for loading data from flat files (CSV and delimited),\n",
            "        Excel files, databases, and saving/loading data from the ultrafast HDF5\n",
            "        format.\n",
            "      - Time series-specific functionality: date range generation and frequency\n",
            "        conversion, moving window statistics, date shifting and lagging.\n",
            "\n",
            "PACKAGE CONTENTS\n",
            "    _config (package)\n",
            "    _libs (package)\n",
            "    _testing (package)\n",
            "    _typing\n",
            "    _version\n",
            "    api (package)\n",
            "    arrays (package)\n",
            "    compat (package)\n",
            "    conftest\n",
            "    core (package)\n",
            "    errors (package)\n",
            "    io (package)\n",
            "    plotting (package)\n",
            "    testing\n",
            "    tests (package)\n",
            "    tseries (package)\n",
            "    util (package)\n",
            "\n",
            "SUBMODULES\n",
            "    _hashtable\n",
            "    _lib\n",
            "    _tslib\n",
            "    offsets\n",
            "\n",
            "FUNCTIONS\n",
            "    __getattr__(name)\n",
            "        # GH 27101\n",
            "\n",
            "DATA\n",
            "    IndexSlice = <pandas.core.indexing._IndexSlice object>\n",
            "    NA = <NA>\n",
            "    NaT = NaT\n",
            "    __docformat__ = 'restructuredtext'\n",
            "    __git_version__ = '66e3805b8cabe977f40c05259cc3fcf7ead5687d'\n",
            "    describe_option = <pandas._config.config.CallableDynamicDoc object>\n",
            "    get_option = <pandas._config.config.CallableDynamicDoc object>\n",
            "    options = <pandas._config.config.DictWrapper object>\n",
            "    reset_option = <pandas._config.config.CallableDynamicDoc object>\n",
            "    set_option = <pandas._config.config.CallableDynamicDoc object>\n",
            "\n",
            "VERSION\n",
            "    1.3.5\n",
            "\n",
            "FILE\n",
            "    /usr/local/lib/python3.7/dist-packages/pandas/__init__.py\n",
            "\n",
            "\n"
          ]
        }
      ]
    },
    {
      "cell_type": "code",
      "source": [
        "data = pd.read_csv(\"sample_data/california_housing_test.csv\")\n",
        "print(data)"
      ],
      "metadata": {
        "colab": {
          "base_uri": "https://localhost:8080/"
        },
        "id": "k0rRlamYsvaQ",
        "outputId": "fa63d762-d5d9-4bce-f18b-717552d55992"
      },
      "execution_count": null,
      "outputs": [
        {
          "output_type": "stream",
          "name": "stdout",
          "text": [
            "      longitude  latitude  housing_median_age  total_rooms  total_bedrooms  \\\n",
            "0       -122.05     37.37                27.0       3885.0           661.0   \n",
            "1       -118.30     34.26                43.0       1510.0           310.0   \n",
            "2       -117.81     33.78                27.0       3589.0           507.0   \n",
            "3       -118.36     33.82                28.0         67.0            15.0   \n",
            "4       -119.67     36.33                19.0       1241.0           244.0   \n",
            "...         ...       ...                 ...          ...             ...   \n",
            "2995    -119.86     34.42                23.0       1450.0           642.0   \n",
            "2996    -118.14     34.06                27.0       5257.0          1082.0   \n",
            "2997    -119.70     36.30                10.0        956.0           201.0   \n",
            "2998    -117.12     34.10                40.0         96.0            14.0   \n",
            "2999    -119.63     34.42                42.0       1765.0           263.0   \n",
            "\n",
            "      population  households  median_income  median_house_value  \n",
            "0         1537.0       606.0         6.6085            344700.0  \n",
            "1          809.0       277.0         3.5990            176500.0  \n",
            "2         1484.0       495.0         5.7934            270500.0  \n",
            "3           49.0        11.0         6.1359            330000.0  \n",
            "4          850.0       237.0         2.9375             81700.0  \n",
            "...          ...         ...            ...                 ...  \n",
            "2995      1258.0       607.0         1.1790            225000.0  \n",
            "2996      3496.0      1036.0         3.3906            237200.0  \n",
            "2997       693.0       220.0         2.2895             62000.0  \n",
            "2998        46.0        14.0         3.2708            162500.0  \n",
            "2999       753.0       260.0         8.5608            500001.0  \n",
            "\n",
            "[3000 rows x 9 columns]\n"
          ]
        }
      ]
    },
    {
      "cell_type": "code",
      "source": [
        "data = pd.read_csv(\"sample_data/california_housing_test.csv\", index_column = 'median_income')\n",
        "print(data)"
      ],
      "metadata": {
        "colab": {
          "base_uri": "https://localhost:8080/",
          "height": 304
        },
        "id": "cPmiWy4LtDt3",
        "outputId": "c304a836-e875-4060-84be-43f467c60483"
      },
      "execution_count": null,
      "outputs": [
        {
          "output_type": "error",
          "ename": "TypeError",
          "evalue": "ignored",
          "traceback": [
            "\u001b[0;31m---------------------------------------------------------------------------\u001b[0m",
            "\u001b[0;31mTypeError\u001b[0m                                 Traceback (most recent call last)",
            "\u001b[0;32m<ipython-input-27-c65f9ab26818>\u001b[0m in \u001b[0;36m<module>\u001b[0;34m\u001b[0m\n\u001b[0;32m----> 1\u001b[0;31m \u001b[0mdata\u001b[0m \u001b[0;34m=\u001b[0m \u001b[0mpd\u001b[0m\u001b[0;34m.\u001b[0m\u001b[0mread_csv\u001b[0m\u001b[0;34m(\u001b[0m\u001b[0;34m\"sample_data/california_housing_test.csv\"\u001b[0m\u001b[0;34m,\u001b[0m \u001b[0mindex_column\u001b[0m \u001b[0;34m=\u001b[0m \u001b[0;34m'median_income'\u001b[0m\u001b[0;34m)\u001b[0m\u001b[0;34m\u001b[0m\u001b[0;34m\u001b[0m\u001b[0m\n\u001b[0m\u001b[1;32m      2\u001b[0m \u001b[0mprint\u001b[0m\u001b[0;34m(\u001b[0m\u001b[0mdata\u001b[0m\u001b[0;34m)\u001b[0m\u001b[0;34m\u001b[0m\u001b[0;34m\u001b[0m\u001b[0m\n",
            "\u001b[0;32m/usr/local/lib/python3.7/dist-packages/pandas/util/_decorators.py\u001b[0m in \u001b[0;36mwrapper\u001b[0;34m(*args, **kwargs)\u001b[0m\n\u001b[1;32m    309\u001b[0m                     \u001b[0mstacklevel\u001b[0m\u001b[0;34m=\u001b[0m\u001b[0mstacklevel\u001b[0m\u001b[0;34m,\u001b[0m\u001b[0;34m\u001b[0m\u001b[0;34m\u001b[0m\u001b[0m\n\u001b[1;32m    310\u001b[0m                 )\n\u001b[0;32m--> 311\u001b[0;31m             \u001b[0;32mreturn\u001b[0m \u001b[0mfunc\u001b[0m\u001b[0;34m(\u001b[0m\u001b[0;34m*\u001b[0m\u001b[0margs\u001b[0m\u001b[0;34m,\u001b[0m \u001b[0;34m**\u001b[0m\u001b[0mkwargs\u001b[0m\u001b[0;34m)\u001b[0m\u001b[0;34m\u001b[0m\u001b[0;34m\u001b[0m\u001b[0m\n\u001b[0m\u001b[1;32m    312\u001b[0m \u001b[0;34m\u001b[0m\u001b[0m\n\u001b[1;32m    313\u001b[0m         \u001b[0;32mreturn\u001b[0m \u001b[0mwrapper\u001b[0m\u001b[0;34m\u001b[0m\u001b[0;34m\u001b[0m\u001b[0m\n",
            "\u001b[0;31mTypeError\u001b[0m: read_csv() got an unexpected keyword argument 'index_column'"
          ]
        }
      ]
    },
    {
      "cell_type": "code",
      "source": [
        "type(data)"
      ],
      "metadata": {
        "colab": {
          "base_uri": "https://localhost:8080/"
        },
        "id": "9XwHP5FBtzZT",
        "outputId": "42257d3a-253d-4e7c-dbb2-73d933aeddad"
      },
      "execution_count": null,
      "outputs": [
        {
          "output_type": "execute_result",
          "data": {
            "text/plain": [
              "pandas.core.frame.DataFrame"
            ]
          },
          "metadata": {},
          "execution_count": 36
        }
      ]
    },
    {
      "cell_type": "code",
      "source": [
        "data.info()"
      ],
      "metadata": {
        "colab": {
          "base_uri": "https://localhost:8080/"
        },
        "id": "P9Xa1WNFt_Oe",
        "outputId": "5464273c-f3d1-466f-f3a0-1ea8882e7674"
      },
      "execution_count": null,
      "outputs": [
        {
          "output_type": "stream",
          "name": "stdout",
          "text": [
            "<class 'pandas.core.frame.DataFrame'>\n",
            "RangeIndex: 3000 entries, 0 to 2999\n",
            "Data columns (total 9 columns):\n",
            " #   Column              Non-Null Count  Dtype  \n",
            "---  ------              --------------  -----  \n",
            " 0   longitude           3000 non-null   float64\n",
            " 1   latitude            3000 non-null   float64\n",
            " 2   housing_median_age  3000 non-null   float64\n",
            " 3   total_rooms         3000 non-null   float64\n",
            " 4   total_bedrooms      3000 non-null   float64\n",
            " 5   population          3000 non-null   float64\n",
            " 6   households          3000 non-null   float64\n",
            " 7   median_income       3000 non-null   float64\n",
            " 8   median_house_value  3000 non-null   float64\n",
            "dtypes: float64(9)\n",
            "memory usage: 211.1 KB\n"
          ]
        }
      ]
    },
    {
      "cell_type": "code",
      "source": [
        "print(data.columns)"
      ],
      "metadata": {
        "colab": {
          "base_uri": "https://localhost:8080/"
        },
        "id": "dPfNntgxuDtN",
        "outputId": "1a84860b-f5ad-4c05-9ca3-a1954915f7d8"
      },
      "execution_count": null,
      "outputs": [
        {
          "output_type": "stream",
          "name": "stdout",
          "text": [
            "Index(['longitude', 'latitude', 'housing_median_age', 'total_rooms',\n",
            "       'total_bedrooms', 'population', 'households', 'median_income',\n",
            "       'median_house_value'],\n",
            "      dtype='object')\n"
          ]
        }
      ]
    },
    {
      "cell_type": "code",
      "source": [
        "[] print(data.T)"
      ],
      "metadata": {
        "colab": {
          "base_uri": "https://localhost:8080/",
          "height": 131
        },
        "id": "0jbIrbaZuKm_",
        "outputId": "d61e845b-c49e-44fc-cb1d-8050e23f34e6"
      },
      "execution_count": null,
      "outputs": [
        {
          "output_type": "error",
          "ename": "SyntaxError",
          "evalue": "ignored",
          "traceback": [
            "\u001b[0;36m  File \u001b[0;32m\"<ipython-input-34-e26b7ebcbc64>\"\u001b[0;36m, line \u001b[0;32m1\u001b[0m\n\u001b[0;31m    [] print(data.T)\u001b[0m\n\u001b[0m           ^\u001b[0m\n\u001b[0;31mSyntaxError\u001b[0m\u001b[0;31m:\u001b[0m invalid syntax\n"
          ]
        }
      ]
    },
    {
      "cell_type": "code",
      "source": [
        "print(data.describe())"
      ],
      "metadata": {
        "colab": {
          "base_uri": "https://localhost:8080/"
        },
        "id": "eNNyNCTjujCF",
        "outputId": "62c2aa10-f5b1-492b-f268-9c0bbdb3f903"
      },
      "execution_count": null,
      "outputs": [
        {
          "output_type": "stream",
          "name": "stdout",
          "text": [
            "         longitude    latitude  housing_median_age   total_rooms  \\\n",
            "count  3000.000000  3000.00000         3000.000000   3000.000000   \n",
            "mean   -119.589200    35.63539           28.845333   2599.578667   \n",
            "std       1.994936     2.12967           12.555396   2155.593332   \n",
            "min    -124.180000    32.56000            1.000000      6.000000   \n",
            "25%    -121.810000    33.93000           18.000000   1401.000000   \n",
            "50%    -118.485000    34.27000           29.000000   2106.000000   \n",
            "75%    -118.020000    37.69000           37.000000   3129.000000   \n",
            "max    -114.490000    41.92000           52.000000  30450.000000   \n",
            "\n",
            "       total_bedrooms    population  households  median_income  \\\n",
            "count     3000.000000   3000.000000  3000.00000    3000.000000   \n",
            "mean       529.950667   1402.798667   489.91200       3.807272   \n",
            "std        415.654368   1030.543012   365.42271       1.854512   \n",
            "min          2.000000      5.000000     2.00000       0.499900   \n",
            "25%        291.000000    780.000000   273.00000       2.544000   \n",
            "50%        437.000000   1155.000000   409.50000       3.487150   \n",
            "75%        636.000000   1742.750000   597.25000       4.656475   \n",
            "max       5419.000000  11935.000000  4930.00000      15.000100   \n",
            "\n",
            "       median_house_value  \n",
            "count          3000.00000  \n",
            "mean         205846.27500  \n",
            "std          113119.68747  \n",
            "min           22500.00000  \n",
            "25%          121200.00000  \n",
            "50%          177650.00000  \n",
            "75%          263975.00000  \n",
            "max          500001.00000  \n"
          ]
        }
      ]
    },
    {
      "cell_type": "code",
      "source": [
        "data.T.to_csv('sample_data/california_housing_test_TRANSPOSED.csv')"
      ],
      "metadata": {
        "id": "eF7Lp78LuqYz"
      },
      "execution_count": null,
      "outputs": []
    },
    {
      "cell_type": "markdown",
      "source": [
        "### Plotting Data"
      ],
      "metadata": {
        "id": "FIqgAw2Cv8ln"
      }
    },
    {
      "cell_type": "code",
      "source": [
        "%matplotlib inline \n",
        "import matplotlib.pyplot as plt"
      ],
      "metadata": {
        "id": "sLxrgtE_wFMN"
      },
      "execution_count": null,
      "outputs": []
    },
    {
      "cell_type": "code",
      "source": [
        "time = [0,1,2,3,4,5]\n",
        "response = [20,25,40,80,65,47]"
      ],
      "metadata": {
        "id": "jLP4ZAUxwV_U"
      },
      "execution_count": null,
      "outputs": []
    },
    {
      "cell_type": "code",
      "source": [
        "print(time, response)"
      ],
      "metadata": {
        "colab": {
          "base_uri": "https://localhost:8080/"
        },
        "id": "VFUWwWkywomP",
        "outputId": "80ec52df-f967-4c79-dbb9-e74381872a61"
      },
      "execution_count": null,
      "outputs": [
        {
          "output_type": "stream",
          "name": "stdout",
          "text": [
            "[0, 1, 2, 3, 4, 5] [20, 25, 40, 80, 65, 47]\n"
          ]
        }
      ]
    },
    {
      "cell_type": "code",
      "source": [
        "plt.plot(time,response)\n",
        "plt.xlabel('Time (hours)')\n",
        "plt.ylabel('Response (cm)')"
      ],
      "metadata": {
        "colab": {
          "base_uri": "https://localhost:8080/",
          "height": 296
        },
        "id": "OBH8n0Aywu3f",
        "outputId": "b1bc99ff-1f52-4d09-ba75-30fd7424773e"
      },
      "execution_count": null,
      "outputs": [
        {
          "output_type": "execute_result",
          "data": {
            "text/plain": [
              "Text(0, 0.5, 'Response (cm)')"
            ]
          },
          "metadata": {},
          "execution_count": 43
        },
        {
          "output_type": "display_data",
          "data": {
            "text/plain": [
              "<Figure size 432x288 with 1 Axes>"
            ],
            "image/png": "[encoded data removed]"
          },
          "metadata": {
            "needs_background": "light"
          }
        }
      ]
    },
    {
      "cell_type": "code",
      "source": [
        "!curl -L -o PracCompPyData.zip http://bit.ly/PracCompPyData"
      ],
      "metadata": {
        "colab": {
          "base_uri": "https://localhost:8080/"
        },
        "id": "jm_vhx_yxMVw",
        "outputId": "63d99716-ab6e-4f59-a962-6c27fcd18c7e"
      },
      "execution_count": null,
      "outputs": [
        {
          "output_type": "stream",
          "name": "stdout",
          "text": [
            "  % Total    % Received % Xferd  Average Speed   Time    Time     Time  Current\n",
            "                                 Dload  Upload   Total   Spent    Left  Speed\n",
            "100   137  100   137    0     0   1343      0 --:--:-- --:--:-- --:--:--  1343\n",
            "100   116    0   116    0     0    340      0 --:--:-- --:--:-- --:--:--   340\n",
            "100   340  100   340    0     0    533      0 --:--:-- --:--:-- --:--:--   533\n",
            "100   534    0   534    0     0    639      0 --:--:-- --:--:-- --:--:--  2886\n",
            "100 38179  100 38179    0     0  34210      0  0:00:01  0:00:01 --:--:-- 34210\n"
          ]
        }
      ]
    },
    {
      "cell_type": "code",
      "source": [
        "!unzip PracCompPyData.zip"
      ],
      "metadata": {
        "colab": {
          "base_uri": "https://localhost:8080/"
        },
        "id": "ZTbmOnedxmPj",
        "outputId": "a7ceccc0-e762-466f-ec5e-6c14ccce7d43"
      },
      "execution_count": null,
      "outputs": [
        {
          "output_type": "stream",
          "name": "stdout",
          "text": [
            "Archive:  PracCompPyData.zip\n",
            "  inflating: data/gapminder_all.csv  \n",
            "  inflating: data/gapminder_gdp_africa.csv  \n",
            "  inflating: data/gapminder_gdp_americas.csv  \n",
            "  inflating: data/gapminder_gdp_asia.csv  \n",
            "  inflating: data/gapminder_gdp_europe.csv  \n",
            "  inflating: data/gapminder_gdp_oceania.csv  \n"
          ]
        }
      ]
    },
    {
      "cell_type": "code",
      "source": [
        "data = pd.read_csv('data/gapminder_gdp_africa.csv', index_col= 'country')"
      ],
      "metadata": {
        "id": "OeYw14ASxqj0"
      },
      "execution_count": null,
      "outputs": []
    },
    {
      "cell_type": "code",
      "source": [
        "print(data)"
      ],
      "metadata": {
        "colab": {
          "base_uri": "https://localhost:8080/"
        },
        "id": "Esx09l3vx2om",
        "outputId": "460413d1-83c5-42ff-daf8-689618c06f83"
      },
      "execution_count": null,
      "outputs": [
        {
          "output_type": "stream",
          "name": "stdout",
          "text": [
            "                          gdpPercap_1952  gdpPercap_1957  gdpPercap_1962  \\\n",
            "country                                                                    \n",
            "Algeria                      2449.008185     3013.976023     2550.816880   \n",
            "Angola                       3520.610273     3827.940465     4269.276742   \n",
            "Benin                        1062.752200      959.601080      949.499064   \n",
            "Botswana                      851.241141      918.232535      983.653976   \n",
            "Burkina Faso                  543.255241      617.183465      722.512021   \n",
            "Burundi                       339.296459      379.564628      355.203227   \n",
            "Cameroon                     1172.667655     1313.048099     1399.607441   \n",
            "Central African Republic     1071.310713     1190.844328     1193.068753   \n",
            "Chad                         1178.665927     1308.495577     1389.817618   \n",
            "Comoros                      1102.990936     1211.148548     1406.648278   \n",
            "Congo Dem. Rep.               780.542326      905.860230      896.314634   \n",
            "Congo Rep.                   2125.621418     2315.056572     2464.783157   \n",
            "Cote d'Ivoire                1388.594732     1500.895925     1728.869428   \n",
            "Djibouti                     2669.529475     2864.969076     3020.989263   \n",
            "Egypt                        1418.822445     1458.915272     1693.335853   \n",
            "Equatorial Guinea             375.643123      426.096408      582.841971   \n",
            "Eritrea                       328.940557      344.161886      380.995843   \n",
            "Ethiopia                      362.146280      378.904163      419.456416   \n",
            "Gabon                        4293.476475     4976.198099     6631.459222   \n",
            "Gambia                        485.230659      520.926711      599.650276   \n",
            "Ghana                         911.298937     1043.561537     1190.041118   \n",
            "Guinea                        510.196492      576.267025      686.373674   \n",
            "Guinea-Bissau                 299.850319      431.790457      522.034373   \n",
            "Kenya                         853.540919      944.438315      896.966373   \n",
            "Lesotho                       298.846212      335.997115      411.800627   \n",
            "Liberia                       575.572996      620.969990      634.195163   \n",
            "Libya                        2387.548060     3448.284395     6757.030816   \n",
            "Madagascar                   1443.011715     1589.202750     1643.387110   \n",
            "Malawi                        369.165080      416.369806      427.901086   \n",
            "Mali                          452.336981      490.382187      496.174343   \n",
            "Mauritania                    743.115910      846.120261     1055.896036   \n",
            "Mauritius                    1967.955707     2034.037981     2529.067487   \n",
            "Morocco                      1688.203570     1642.002314     1566.353493   \n",
            "Mozambique                    468.526038      495.586833      556.686354   \n",
            "Namibia                      2423.780443     2621.448058     3173.215595   \n",
            "Niger                         761.879376      835.523402      997.766113   \n",
            "Nigeria                      1077.281856     1100.592563     1150.927478   \n",
            "Reunion                      2718.885295     2769.451844     3173.723340   \n",
            "Rwanda                        493.323875      540.289398      597.473073   \n",
            "Sao Tome and Principe         879.583586      860.736903     1071.551119   \n",
            "Senegal                      1450.356983     1567.653006     1654.988723   \n",
            "Sierra Leone                  879.787736     1004.484437     1116.639877   \n",
            "Somalia                      1135.749842     1258.147413     1369.488336   \n",
            "South Africa                 4725.295531     5487.104219     5768.729717   \n",
            "Sudan                        1615.991129     1770.337074     1959.593767   \n",
            "Swaziland                    1148.376626     1244.708364     1856.182125   \n",
            "Tanzania                      716.650072      698.535607      722.003807   \n",
            "Togo                          859.808657      925.908320     1067.534810   \n",
            "Tunisia                      1468.475631     1395.232468     1660.303210   \n",
            "Uganda                        734.753484      774.371069      767.271740   \n",
            "Zambia                       1147.388831     1311.956766     1452.725766   \n",
            "Zimbabwe                      406.884115      518.764268      527.272182   \n",
            "\n",
            "                          gdpPercap_1967  gdpPercap_1972  gdpPercap_1977  \\\n",
            "country                                                                    \n",
            "Algeria                      3246.991771     4182.663766     4910.416756   \n",
            "Angola                       5522.776375     5473.288005     3008.647355   \n",
            "Benin                        1035.831411     1085.796879     1029.161251   \n",
            "Botswana                     1214.709294     2263.611114     3214.857818   \n",
            "Burkina Faso                  794.826560      854.735976      743.387037   \n",
            "Burundi                       412.977514      464.099504      556.103265   \n",
            "Cameroon                     1508.453148     1684.146528     1783.432873   \n",
            "Central African Republic     1136.056615     1070.013275     1109.374338   \n",
            "Chad                         1196.810565     1104.103987     1133.984950   \n",
            "Comoros                      1876.029643     1937.577675     1172.603047   \n",
            "Congo Dem. Rep.               861.593242      904.896068      795.757282   \n",
            "Congo Rep.                   2677.939642     3213.152683     3259.178978   \n",
            "Cote d'Ivoire                2052.050473     2378.201111     2517.736547   \n",
            "Djibouti                     3020.050513     3694.212352     3081.761022   \n",
            "Egypt                        1814.880728     2024.008147     2785.493582   \n",
            "Equatorial Guinea             915.596003      672.412257      958.566812   \n",
            "Eritrea                       468.794970      514.324208      505.753808   \n",
            "Ethiopia                      516.118644      566.243944      556.808383   \n",
            "Gabon                        8358.761987    11401.948410    21745.573280   \n",
            "Gambia                        734.782912      756.086836      884.755251   \n",
            "Ghana                        1125.697160     1178.223708      993.223957   \n",
            "Guinea                        708.759541      741.666231      874.685864   \n",
            "Guinea-Bissau                 715.580640      820.224588      764.725963   \n",
            "Kenya                        1056.736457     1222.359968     1267.613204   \n",
            "Lesotho                       498.639026      496.581592      745.369541   \n",
            "Liberia                       713.603648      803.005454      640.322438   \n",
            "Libya                       18772.751690    21011.497210    21951.211760   \n",
            "Madagascar                   1634.047282     1748.562982     1544.228586   \n",
            "Malawi                        495.514781      584.621971      663.223677   \n",
            "Mali                          545.009887      581.368876      686.395269   \n",
            "Mauritania                   1421.145193     1586.851781     1497.492223   \n",
            "Mauritius                    2475.387562     2575.484158     3710.982963   \n",
            "Morocco                      1711.044770     1930.194975     2370.619976   \n",
            "Mozambique                    566.669154      724.917804      502.319733   \n",
            "Namibia                      3793.694753     3746.080948     3876.485958   \n",
            "Niger                        1054.384891      954.209236      808.897073   \n",
            "Nigeria                      1014.514104     1698.388838     1981.951806   \n",
            "Reunion                      4021.175739     5047.658563     4319.804067   \n",
            "Rwanda                        510.963714      590.580664      670.080601   \n",
            "Sao Tome and Principe        1384.840593     1532.985254     1737.561657   \n",
            "Senegal                      1612.404632     1597.712056     1561.769116   \n",
            "Sierra Leone                 1206.043465     1353.759762     1348.285159   \n",
            "Somalia                      1284.733180     1254.576127     1450.992513   \n",
            "South Africa                 7114.477971     7765.962636     8028.651439   \n",
            "Sudan                        1687.997641     1659.652775     2202.988423   \n",
            "Swaziland                    2613.101665     3364.836625     3781.410618   \n",
            "Tanzania                      848.218657      915.985059      962.492293   \n",
            "Togo                         1477.596760     1649.660188     1532.776998   \n",
            "Tunisia                      1932.360167     2753.285994     3120.876811   \n",
            "Uganda                        908.918522      950.735869      843.733137   \n",
            "Zambia                       1777.077318     1773.498265     1588.688299   \n",
            "Zimbabwe                      569.795071      799.362176      685.587682   \n",
            "\n",
            "                          gdpPercap_1982  gdpPercap_1987  gdpPercap_1992  \\\n",
            "country                                                                    \n",
            "Algeria                      5745.160213     5681.358539     5023.216647   \n",
            "Angola                       2756.953672     2430.208311     2627.845685   \n",
            "Benin                        1277.897616     1225.856010     1191.207681   \n",
            "Botswana                     4551.142150     6205.883850     7954.111645   \n",
            "Burkina Faso                  807.198586      912.063142      931.752773   \n",
            "Burundi                       559.603231      621.818819      631.699878   \n",
            "Cameroon                     2367.983282     2602.664206     1793.163278   \n",
            "Central African Republic      956.752991      844.876350      747.905525   \n",
            "Chad                          797.908101      952.386129     1058.064300   \n",
            "Comoros                      1267.100083     1315.980812     1246.907370   \n",
            "Congo Dem. Rep.               673.747818      672.774812      457.719181   \n",
            "Congo Rep.                   4879.507522     4201.194937     4016.239529   \n",
            "Cote d'Ivoire                2602.710169     2156.956069     1648.073791   \n",
            "Djibouti                     2879.468067     2880.102568     2377.156192   \n",
            "Egypt                        3503.729636     3885.460710     3794.755195   \n",
            "Equatorial Guinea             927.825343      966.896815     1132.055034   \n",
            "Eritrea                       524.875849      521.134133      582.858510   \n",
            "Ethiopia                      577.860747      573.741314      421.353465   \n",
            "Gabon                       15113.361940    11864.408440    13522.157520   \n",
            "Gambia                        835.809611      611.658861      665.624413   \n",
            "Ghana                         876.032569      847.006113      925.060154   \n",
            "Guinea                        857.250358      805.572472      794.348438   \n",
            "Guinea-Bissau                 838.123967      736.415392      745.539871   \n",
            "Kenya                        1348.225791     1361.936856     1341.921721   \n",
            "Lesotho                       797.263107      773.993214      977.486273   \n",
            "Liberia                       572.199569      506.113857      636.622919   \n",
            "Libya                       17364.275380    11770.589800     9640.138501   \n",
            "Madagascar                   1302.878658     1155.441948     1040.676190   \n",
            "Malawi                        632.803921      635.517363      563.200014   \n",
            "Mali                          618.014064      684.171558      739.014375   \n",
            "Mauritania                   1481.150189     1421.603576     1361.369784   \n",
            "Mauritius                    3688.037739     4783.586903     6058.253846   \n",
            "Morocco                      2702.620356     2755.046991     2948.047252   \n",
            "Mozambique                    462.211415      389.876185      410.896824   \n",
            "Namibia                      4191.100511     3693.731337     3804.537999   \n",
            "Niger                         909.722135      668.300023      581.182725   \n",
            "Nigeria                      1576.973750     1385.029563     1619.848217   \n",
            "Reunion                      5267.219353     5303.377488     6101.255823   \n",
            "Rwanda                        881.570647      847.991217      737.068595   \n",
            "Sao Tome and Principe        1890.218117     1516.525457     1428.777814   \n",
            "Senegal                      1518.479984     1441.720720     1367.899369   \n",
            "Sierra Leone                 1465.010784     1294.447788     1068.696278   \n",
            "Somalia                      1176.807031     1093.244963      926.960296   \n",
            "South Africa                 8568.266228     7825.823398     7225.069258   \n",
            "Sudan                        1895.544073     1507.819159     1492.197043   \n",
            "Swaziland                    3895.384018     3984.839812     3553.022400   \n",
            "Tanzania                      874.242607      831.822079      825.682454   \n",
            "Togo                         1344.577953     1202.201361     1034.298904   \n",
            "Tunisia                      3560.233174     3810.419296     4332.720164   \n",
            "Uganda                        682.266227      617.724406      644.170797   \n",
            "Zambia                       1408.678565     1213.315116     1210.884633   \n",
            "Zimbabwe                      788.855041      706.157306      693.420786   \n",
            "\n",
            "                          gdpPercap_1997  gdpPercap_2002  gdpPercap_2007  \n",
            "country                                                                   \n",
            "Algeria                      4797.295051     5288.040382     6223.367465  \n",
            "Angola                       2277.140884     2773.287312     4797.231267  \n",
            "Benin                        1232.975292     1372.877931     1441.284873  \n",
            "Botswana                     8647.142313    11003.605080    12569.851770  \n",
            "Burkina Faso                  946.294962     1037.645221     1217.032994  \n",
            "Burundi                       463.115148      446.403513      430.070692  \n",
            "Cameroon                     1694.337469     1934.011449     2042.095240  \n",
            "Central African Republic      740.506332      738.690607      706.016537  \n",
            "Chad                         1004.961353     1156.181860     1704.063724  \n",
            "Comoros                      1173.618235     1075.811558      986.147879  \n",
            "Congo Dem. Rep.               312.188423      241.165876      277.551859  \n",
            "Congo Rep.                   3484.164376     3484.061970     3632.557798  \n",
            "Cote d'Ivoire                1786.265407     1648.800823     1544.750112  \n",
            "Djibouti                     1895.016984     1908.260867     2082.481567  \n",
            "Egypt                        4173.181797     4754.604414     5581.180998  \n",
            "Equatorial Guinea            2814.480755     7703.495900    12154.089750  \n",
            "Eritrea                       913.470790      765.350001      641.369524  \n",
            "Ethiopia                      515.889401      530.053532      690.805576  \n",
            "Gabon                       14722.841880    12521.713920    13206.484520  \n",
            "Gambia                        653.730170      660.585600      752.749726  \n",
            "Ghana                        1005.245812     1111.984578     1327.608910  \n",
            "Guinea                        869.449767      945.583584      942.654211  \n",
            "Guinea-Bissau                 796.664468      575.704718      579.231743  \n",
            "Kenya                        1360.485021     1287.514732     1463.249282  \n",
            "Lesotho                      1186.147994     1275.184575     1569.331442  \n",
            "Liberia                       609.173951      531.482368      414.507341  \n",
            "Libya                        9467.446056     9534.677467    12057.499280  \n",
            "Madagascar                    986.295896      894.637082     1044.770126  \n",
            "Malawi                        692.275810      665.423119      759.349910  \n",
            "Mali                          790.257985      951.409752     1042.581557  \n",
            "Mauritania                   1483.136136     1579.019543     1803.151496  \n",
            "Mauritius                    7425.705295     9021.815894    10956.991120  \n",
            "Morocco                      2982.101858     3258.495584     3820.175230  \n",
            "Mozambique                    472.346077      633.617947      823.685621  \n",
            "Namibia                      3899.524260     4072.324751     4811.060429  \n",
            "Niger                         580.305209      601.074501      619.676892  \n",
            "Nigeria                      1624.941275     1615.286395     2013.977305  \n",
            "Reunion                      6071.941411     6316.165200     7670.122558  \n",
            "Rwanda                        589.944505      785.653765      863.088464  \n",
            "Sao Tome and Principe        1339.076036     1353.092390     1598.435089  \n",
            "Senegal                      1392.368347     1519.635262     1712.472136  \n",
            "Sierra Leone                  574.648158      699.489713      862.540756  \n",
            "Somalia                       930.596428      882.081822      926.141068  \n",
            "South Africa                 7479.188244     7710.946444     9269.657808  \n",
            "Sudan                        1632.210764     1993.398314     2602.394995  \n",
            "Swaziland                    3876.768460     4128.116943     4513.480643  \n",
            "Tanzania                      789.186223      899.074211     1107.482182  \n",
            "Togo                          982.286924      886.220576      882.969944  \n",
            "Tunisia                      4876.798614     5722.895655     7092.923025  \n",
            "Uganda                        816.559081      927.721002     1056.380121  \n",
            "Zambia                       1071.353818     1071.613938     1271.211593  \n",
            "Zimbabwe                      792.449960      672.038623      469.709298  \n"
          ]
        }
      ]
    },
    {
      "cell_type": "code",
      "source": [
        "years = data.columns.str.strip('gdpPercap_')"
      ],
      "metadata": {
        "id": "pNJCCQWDyJnO"
      },
      "execution_count": null,
      "outputs": []
    },
    {
      "cell_type": "code",
      "source": [
        "type(years)"
      ],
      "metadata": {
        "colab": {
          "base_uri": "https://localhost:8080/"
        },
        "id": "Pp6t4q2hyTFc",
        "outputId": "3ec14405-2a99-4efc-ad85-3126d2678785"
      },
      "execution_count": null,
      "outputs": [
        {
          "output_type": "execute_result",
          "data": {
            "text/plain": [
              "pandas.core.indexes.base.Index"
            ]
          },
          "metadata": {},
          "execution_count": 49
        }
      ]
    },
    {
      "cell_type": "code",
      "source": [
        "data.info()"
      ],
      "metadata": {
        "colab": {
          "base_uri": "https://localhost:8080/"
        },
        "id": "1S8-yl1pyY4D",
        "outputId": "a42b6692-8a61-42e9-bdc7-77cbb3b2bcdc"
      },
      "execution_count": null,
      "outputs": [
        {
          "output_type": "stream",
          "name": "stdout",
          "text": [
            "<class 'pandas.core.frame.DataFrame'>\n",
            "Index: 52 entries, Algeria to Zimbabwe\n",
            "Data columns (total 12 columns):\n",
            " #   Column          Non-Null Count  Dtype  \n",
            "---  ------          --------------  -----  \n",
            " 0   gdpPercap_1952  52 non-null     float64\n",
            " 1   gdpPercap_1957  52 non-null     float64\n",
            " 2   gdpPercap_1962  52 non-null     float64\n",
            " 3   gdpPercap_1967  52 non-null     float64\n",
            " 4   gdpPercap_1972  52 non-null     float64\n",
            " 5   gdpPercap_1977  52 non-null     float64\n",
            " 6   gdpPercap_1982  52 non-null     float64\n",
            " 7   gdpPercap_1987  52 non-null     float64\n",
            " 8   gdpPercap_1992  52 non-null     float64\n",
            " 9   gdpPercap_1997  52 non-null     float64\n",
            " 10  gdpPercap_2002  52 non-null     float64\n",
            " 11  gdpPercap_2007  52 non-null     float64\n",
            "dtypes: float64(12)\n",
            "memory usage: 7.3+ KB\n"
          ]
        }
      ]
    },
    {
      "cell_type": "code",
      "source": [
        "print(data.columns)"
      ],
      "metadata": {
        "colab": {
          "base_uri": "https://localhost:8080/"
        },
        "id": "0RDHMnhWyfa2",
        "outputId": "a51cda8c-69e7-4302-d14f-6b6cb6832b1e"
      },
      "execution_count": null,
      "outputs": [
        {
          "output_type": "stream",
          "name": "stdout",
          "text": [
            "Index(['gdpPercap_1952', 'gdpPercap_1957', 'gdpPercap_1962', 'gdpPercap_1967',\n",
            "       'gdpPercap_1972', 'gdpPercap_1977', 'gdpPercap_1982', 'gdpPercap_1987',\n",
            "       'gdpPercap_1992', 'gdpPercap_1997', 'gdpPercap_2002', 'gdpPercap_2007'],\n",
            "      dtype='object')\n"
          ]
        }
      ]
    },
    {
      "cell_type": "code",
      "source": [
        "print(data.T)"
      ],
      "metadata": {
        "colab": {
          "base_uri": "https://localhost:8080/"
        },
        "id": "clWDkxW6yu2a",
        "outputId": "bf725747-2dbe-4176-bf97-50297deafcde"
      },
      "execution_count": null,
      "outputs": [
        {
          "output_type": "stream",
          "name": "stdout",
          "text": [
            "country             Algeria       Angola        Benin      Botswana  \\\n",
            "gdpPercap_1952  2449.008185  3520.610273  1062.752200    851.241141   \n",
            "gdpPercap_1957  3013.976023  3827.940465   959.601080    918.232535   \n",
            "gdpPercap_1962  2550.816880  4269.276742   949.499064    983.653976   \n",
            "gdpPercap_1967  3246.991771  5522.776375  1035.831411   1214.709294   \n",
            "gdpPercap_1972  4182.663766  5473.288005  1085.796879   2263.611114   \n",
            "gdpPercap_1977  4910.416756  3008.647355  1029.161251   3214.857818   \n",
            "gdpPercap_1982  5745.160213  2756.953672  1277.897616   4551.142150   \n",
            "gdpPercap_1987  5681.358539  2430.208311  1225.856010   6205.883850   \n",
            "gdpPercap_1992  5023.216647  2627.845685  1191.207681   7954.111645   \n",
            "gdpPercap_1997  4797.295051  2277.140884  1232.975292   8647.142313   \n",
            "gdpPercap_2002  5288.040382  2773.287312  1372.877931  11003.605080   \n",
            "gdpPercap_2007  6223.367465  4797.231267  1441.284873  12569.851770   \n",
            "\n",
            "country         Burkina Faso     Burundi     Cameroon  \\\n",
            "gdpPercap_1952    543.255241  339.296459  1172.667655   \n",
            "gdpPercap_1957    617.183465  379.564628  1313.048099   \n",
            "gdpPercap_1962    722.512021  355.203227  1399.607441   \n",
            "gdpPercap_1967    794.826560  412.977514  1508.453148   \n",
            "gdpPercap_1972    854.735976  464.099504  1684.146528   \n",
            "gdpPercap_1977    743.387037  556.103265  1783.432873   \n",
            "gdpPercap_1982    807.198586  559.603231  2367.983282   \n",
            "gdpPercap_1987    912.063142  621.818819  2602.664206   \n",
            "gdpPercap_1992    931.752773  631.699878  1793.163278   \n",
            "gdpPercap_1997    946.294962  463.115148  1694.337469   \n",
            "gdpPercap_2002   1037.645221  446.403513  1934.011449   \n",
            "gdpPercap_2007   1217.032994  430.070692  2042.095240   \n",
            "\n",
            "country         Central African Republic         Chad      Comoros  ...  \\\n",
            "gdpPercap_1952               1071.310713  1178.665927  1102.990936  ...   \n",
            "gdpPercap_1957               1190.844328  1308.495577  1211.148548  ...   \n",
            "gdpPercap_1962               1193.068753  1389.817618  1406.648278  ...   \n",
            "gdpPercap_1967               1136.056615  1196.810565  1876.029643  ...   \n",
            "gdpPercap_1972               1070.013275  1104.103987  1937.577675  ...   \n",
            "gdpPercap_1977               1109.374338  1133.984950  1172.603047  ...   \n",
            "gdpPercap_1982                956.752991   797.908101  1267.100083  ...   \n",
            "gdpPercap_1987                844.876350   952.386129  1315.980812  ...   \n",
            "gdpPercap_1992                747.905525  1058.064300  1246.907370  ...   \n",
            "gdpPercap_1997                740.506332  1004.961353  1173.618235  ...   \n",
            "gdpPercap_2002                738.690607  1156.181860  1075.811558  ...   \n",
            "gdpPercap_2007                706.016537  1704.063724   986.147879  ...   \n",
            "\n",
            "country             Somalia  South Africa        Sudan    Swaziland  \\\n",
            "gdpPercap_1952  1135.749842   4725.295531  1615.991129  1148.376626   \n",
            "gdpPercap_1957  1258.147413   5487.104219  1770.337074  1244.708364   \n",
            "gdpPercap_1962  1369.488336   5768.729717  1959.593767  1856.182125   \n",
            "gdpPercap_1967  1284.733180   7114.477971  1687.997641  2613.101665   \n",
            "gdpPercap_1972  1254.576127   7765.962636  1659.652775  3364.836625   \n",
            "gdpPercap_1977  1450.992513   8028.651439  2202.988423  3781.410618   \n",
            "gdpPercap_1982  1176.807031   8568.266228  1895.544073  3895.384018   \n",
            "gdpPercap_1987  1093.244963   7825.823398  1507.819159  3984.839812   \n",
            "gdpPercap_1992   926.960296   7225.069258  1492.197043  3553.022400   \n",
            "gdpPercap_1997   930.596428   7479.188244  1632.210764  3876.768460   \n",
            "gdpPercap_2002   882.081822   7710.946444  1993.398314  4128.116943   \n",
            "gdpPercap_2007   926.141068   9269.657808  2602.394995  4513.480643   \n",
            "\n",
            "country            Tanzania         Togo      Tunisia       Uganda  \\\n",
            "gdpPercap_1952   716.650072   859.808657  1468.475631   734.753484   \n",
            "gdpPercap_1957   698.535607   925.908320  1395.232468   774.371069   \n",
            "gdpPercap_1962   722.003807  1067.534810  1660.303210   767.271740   \n",
            "gdpPercap_1967   848.218657  1477.596760  1932.360167   908.918522   \n",
            "gdpPercap_1972   915.985059  1649.660188  2753.285994   950.735869   \n",
            "gdpPercap_1977   962.492293  1532.776998  3120.876811   843.733137   \n",
            "gdpPercap_1982   874.242607  1344.577953  3560.233174   682.266227   \n",
            "gdpPercap_1987   831.822079  1202.201361  3810.419296   617.724406   \n",
            "gdpPercap_1992   825.682454  1034.298904  4332.720164   644.170797   \n",
            "gdpPercap_1997   789.186223   982.286924  4876.798614   816.559081   \n",
            "gdpPercap_2002   899.074211   886.220576  5722.895655   927.721002   \n",
            "gdpPercap_2007  1107.482182   882.969944  7092.923025  1056.380121   \n",
            "\n",
            "country              Zambia    Zimbabwe  \n",
            "gdpPercap_1952  1147.388831  406.884115  \n",
            "gdpPercap_1957  1311.956766  518.764268  \n",
            "gdpPercap_1962  1452.725766  527.272182  \n",
            "gdpPercap_1967  1777.077318  569.795071  \n",
            "gdpPercap_1972  1773.498265  799.362176  \n",
            "gdpPercap_1977  1588.688299  685.587682  \n",
            "gdpPercap_1982  1408.678565  788.855041  \n",
            "gdpPercap_1987  1213.315116  706.157306  \n",
            "gdpPercap_1992  1210.884633  693.420786  \n",
            "gdpPercap_1997  1071.353818  792.449960  \n",
            "gdpPercap_2002  1071.613938  672.038623  \n",
            "gdpPercap_2007  1271.211593  469.709298  \n",
            "\n",
            "[12 rows x 52 columns]\n"
          ]
        }
      ]
    },
    {
      "cell_type": "code",
      "source": [
        "print(data.describe())"
      ],
      "metadata": {
        "colab": {
          "base_uri": "https://localhost:8080/"
        },
        "id": "UtrwkQgRy3h4",
        "outputId": "155c8a8c-b612-4d30-ce24-b74a7e60b654"
      },
      "execution_count": null,
      "outputs": [
        {
          "output_type": "stream",
          "name": "stdout",
          "text": [
            "       gdpPercap_1952  gdpPercap_1957  gdpPercap_1962  gdpPercap_1967  \\\n",
            "count       52.000000       52.000000       52.000000       52.000000   \n",
            "mean      1252.572466     1385.236062     1598.078825     2050.363801   \n",
            "std        982.952116     1134.508918     1461.839189     2847.717603   \n",
            "min        298.846212      335.997115      355.203227      412.977514   \n",
            "25%        534.990554      606.954355      673.329046      779.815648   \n",
            "50%        987.025569     1024.022987     1133.783678     1210.376379   \n",
            "75%       1454.886645     1573.040442     1702.219247     1890.112274   \n",
            "max       4725.295531     5487.104219     6757.030816    18772.751690   \n",
            "\n",
            "       gdpPercap_1972  gdpPercap_1977  gdpPercap_1982  gdpPercap_1987  \\\n",
            "count       52.000000       52.000000       52.000000       52.000000   \n",
            "mean      2339.615674     2585.938508     2481.592960     2282.668991   \n",
            "std       3286.853884     4142.398707     3242.632753     2566.531947   \n",
            "min        464.099504      502.319733      462.211415      389.876185   \n",
            "25%        815.919804      805.612125      828.656854      764.598759   \n",
            "50%       1443.372508     1399.638836     1323.728306     1219.585563   \n",
            "75%       2292.258613     2841.282025     2787.582271     2786.310885   \n",
            "max      21011.497210    21951.211760    17364.275380    11864.408440   \n",
            "\n",
            "       gdpPercap_1992  gdpPercap_1997  gdpPercap_2002  gdpPercap_2007  \n",
            "count       52.000000       52.000000       52.000000       52.000000  \n",
            "mean      2281.810333     2378.759555     2599.385159     3089.032605  \n",
            "std       2644.075602     2820.728117     2972.651308     3618.163491  \n",
            "min        410.896824      312.188423      241.165876      277.551859  \n",
            "25%        743.908497      791.901966      780.577824      862.951537  \n",
            "50%       1161.631357     1179.883114     1215.683217     1452.267078  \n",
            "75%       2707.896077     2856.386031     3314.887180     3993.501583  \n",
            "max      13522.157520    14722.841880    12521.713920    13206.484520  \n"
          ]
        }
      ]
    },
    {
      "cell_type": "code",
      "source": [
        "data.columns = years.astype(int)"
      ],
      "metadata": {
        "id": "gF3tXXwFy8r5"
      },
      "execution_count": null,
      "outputs": []
    },
    {
      "cell_type": "code",
      "source": [
        "print(data.columns)"
      ],
      "metadata": {
        "colab": {
          "base_uri": "https://localhost:8080/"
        },
        "id": "i4NJBi7EzBtD",
        "outputId": "4b1217fb-69b9-4a49-fc4a-d1b3c844b072"
      },
      "execution_count": null,
      "outputs": [
        {
          "output_type": "stream",
          "name": "stdout",
          "text": [
            "Int64Index([1952, 1957, 1962, 1967, 1972, 1977, 1982, 1987, 1992, 1997, 2002,\n",
            "            2007],\n",
            "           dtype='int64')\n"
          ]
        }
      ]
    },
    {
      "cell_type": "code",
      "source": [
        "data.plot()"
      ],
      "metadata": {
        "colab": {
          "base_uri": "https://localhost:8080/",
          "height": 296
        },
        "id": "ZpYO-NdLzMrP",
        "outputId": "c708627a-c6dc-45a6-c64c-7aca3cce76ae"
      },
      "execution_count": null,
      "outputs": [
        {
          "output_type": "execute_result",
          "data": {
            "text/plain": [
              "<matplotlib.axes._subplots.AxesSubplot at 0x7f4d472f13d0>"
            ]
          },
          "metadata": {},
          "execution_count": 56
        },
        {
          "output_type": "display_data",
          "data": {
            "text/plain": [
              "<Figure size 432x288 with 1 Axes>"
            ],
            "image/png": "[encoded data removed]"
          },
          "metadata": {
            "needs_background": "light"
          }
        }
      ]
    },
    {
      "cell_type": "code",
      "source": [
        "data.loc['Sudan'].plot()"
      ],
      "metadata": {
        "colab": {
          "base_uri": "https://localhost:8080/",
          "height": 282
        },
        "id": "VPii-PoEzYko",
        "outputId": "a0b131a6-209e-434a-e042-988262c64432"
      },
      "execution_count": null,
      "outputs": [
        {
          "output_type": "execute_result",
          "data": {
            "text/plain": [
              "<matplotlib.axes._subplots.AxesSubplot at 0x7f4d4718fe90>"
            ]
          },
          "metadata": {},
          "execution_count": 57
        },
        {
          "output_type": "display_data",
          "data": {
            "text/plain": [
              "<Figure size 432x288 with 1 Axes>"
            ],
            "image/png": "[encoded data removed]"
          },
          "metadata": {
            "needs_background": "light"
          }
        }
      ]
    },
    {
      "cell_type": "code",
      "source": [
        "data.T.plot()\n",
        "plt.ylabel('GDP/capita')\n",
        "plt.xlabel('Year')"
      ],
      "metadata": {
        "colab": {
          "base_uri": "https://localhost:8080/",
          "height": 851
        },
        "id": "xyNORhg-0Rnf",
        "outputId": "7cc6fd76-5cdc-4839-8624-21612a85f381"
      },
      "execution_count": null,
      "outputs": [
        {
          "output_type": "execute_result",
          "data": {
            "text/plain": [
              "Text(0.5, 0, 'Year')"
            ]
          },
          "metadata": {},
          "execution_count": 60
        },
        {
          "output_type": "display_data",
          "data": {
            "text/plain": [
              "<Figure size 432x288 with 1 Axes>"
            ],
            "image/png": "[encoded data removed]"
          },
          "metadata": {
            "needs_background": "light"
          }
        }
      ]
    },
    {
      "cell_type": "code",
      "source": [
        "plt.style.use('ggplot')\n",
        "data.T.plot()\n",
        "plt.ylabel('GDP/capita')\n",
        "plt.xlabel('Year')"
      ],
      "metadata": {
        "colab": {
          "base_uri": "https://localhost:8080/",
          "height": 851
        },
        "id": "x5_NiDuq0tJI",
        "outputId": "53cc14d9-3735-4d46-d844-d2d48bd7145f"
      },
      "execution_count": null,
      "outputs": [
        {
          "output_type": "execute_result",
          "data": {
            "text/plain": [
              "Text(0.5, 0, 'Year')"
            ]
          },
          "metadata": {},
          "execution_count": 61
        },
        {
          "output_type": "display_data",
          "data": {
            "text/plain": [
              "<Figure size 432x288 with 1 Axes>"
            ],
            "image/png": "[encoded data removed]"
          },
          "metadata": {}
        }
      ]
    },
    {
      "cell_type": "code",
      "source": [
        "plt.style.use('ggplot')\n",
        "data.T.plot(kind='bar')\n",
        "plt.ylabel('GDP/capita')\n",
        "plt.xlabel('Year')"
      ],
      "metadata": {
        "colab": {
          "base_uri": "https://localhost:8080/",
          "height": 900
        },
        "id": "XicxcGzn1NNV",
        "outputId": "8ee8f946-dd81-42f8-c044-8fa050b05616"
      },
      "execution_count": null,
      "outputs": [
        {
          "output_type": "execute_result",
          "data": {
            "text/plain": [
              "Text(0.5, 0, 'Year')"
            ]
          },
          "metadata": {},
          "execution_count": 62
        },
        {
          "output_type": "display_data",
          "data": {
            "text/plain": [
              "<Figure size 432x288 with 1 Axes>"
            ],
            "image/png": "[encoded data removed]"
          },
          "metadata": {}
        }
      ]
    },
    {
      "cell_type": "code",
      "source": [
        "plt.plot(time, response, 'g--')"
      ],
      "metadata": {
        "colab": {
          "base_uri": "https://localhost:8080/",
          "height": 282
        },
        "id": "U431yer01Yb2",
        "outputId": "ccf0c38c-959d-402f-a2ae-9da540269a8d"
      },
      "execution_count": null,
      "outputs": [
        {
          "output_type": "execute_result",
          "data": {
            "text/plain": [
              "[<matplotlib.lines.Line2D at 0x7f4d455d1610>]"
            ]
          },
          "metadata": {},
          "execution_count": 63
        },
        {
          "output_type": "display_data",
          "data": {
            "text/plain": [
              "<Figure size 432x288 with 1 Axes>"
            ],
            "image/png": "[encoded data removed]"
          },
          "metadata": {}
        }
      ]
    },
    {
      "cell_type": "code",
      "source": [
        "plt.plot(time, response, 'bo')"
      ],
      "metadata": {
        "colab": {
          "base_uri": "https://localhost:8080/",
          "height": 282
        },
        "id": "OeIL6YoN1sez",
        "outputId": "731e6904-708e-45f9-87df-9b4397728dc1"
      },
      "execution_count": null,
      "outputs": [
        {
          "output_type": "execute_result",
          "data": {
            "text/plain": [
              "[<matplotlib.lines.Line2D at 0x7f4d44a632d0>]"
            ]
          },
          "metadata": {},
          "execution_count": 64
        },
        {
          "output_type": "display_data",
          "data": {
            "text/plain": [
              "<Figure size 432x288 with 1 Axes>"
            ],
            "image/png": "[encoded data removed]"
          },
          "metadata": {}
        }
      ]
    },
    {
      "cell_type": "code",
      "source": [
        "gdp_angola = data.loc['Angola']\n",
        "gdp_zimbabwe = data.loc['Zimbabwe']\n",
        "\n",
        "plt.plot(years, gdp_angola, 'g--', label='Angola')\n",
        "plt.plot(years, gdp_zimbabwe, 'o--', label='Zimbabwe')\n",
        "\n",
        "plt.xlabel('Year')\n",
        "plt.ylabel('GDP/capita')\n",
        "plt.legend(loc='lower right')"
      ],
      "metadata": {
        "colab": {
          "base_uri": "https://localhost:8080/",
          "height": 299
        },
        "id": "CYaBOkv02TBA",
        "outputId": "d8b9a8e1-6a31-48c1-997a-103c32b37cfd"
      },
      "execution_count": null,
      "outputs": [
        {
          "output_type": "execute_result",
          "data": {
            "text/plain": [
              "<matplotlib.legend.Legend at 0x7f4d45109b50>"
            ]
          },
          "metadata": {},
          "execution_count": 74
        },
        {
          "output_type": "display_data",
          "data": {
            "text/plain": [
              "<Figure size 432x288 with 1 Axes>"
            ],
            "image/png": "[encoded data removed]"
          },
          "metadata": {}
        }
      ]
    },
    {
      "cell_type": "code",
      "source": [],
      "metadata": {
        "id": "IQRr5_0_3mCE"
      },
      "execution_count": null,
      "outputs": []
    },
    {
      "cell_type": "code",
      "source": [
        "plt.scatter(gdp_angola, gdp_zimbabwe)"
      ],
      "metadata": {
        "colab": {
          "base_uri": "https://localhost:8080/",
          "height": 282
        },
        "id": "-4EbF9kv3kqr",
        "outputId": "7adee11a-e2ab-4521-9c1a-7a6201bb8d92"
      },
      "execution_count": null,
      "outputs": [
        {
          "output_type": "execute_result",
          "data": {
            "text/plain": [
              "<matplotlib.collections.PathCollection at 0x7f4d448777d0>"
            ]
          },
          "metadata": {},
          "execution_count": 71
        },
        {
          "output_type": "display_data",
          "data": {
            "text/plain": [
              "<Figure size 432x288 with 1 Axes>"
            ],
            "image/png": "[encoded data removed]"
          },
          "metadata": {}
        }
      ]
    },
    {
      "cell_type": "code",
      "source": [
        "print(plt.style.available)"
      ],
      "metadata": {
        "colab": {
          "base_uri": "https://localhost:8080/"
        },
        "id": "Q6wTYQ9P37uh",
        "outputId": "a66d9282-df1a-4b6c-a7ec-1662b367bfc5"
      },
      "execution_count": null,
      "outputs": [
        {
          "output_type": "stream",
          "name": "stdout",
          "text": [
            "['Solarize_Light2', '_classic_test_patch', 'bmh', 'classic', 'dark_background', 'fast', 'fivethirtyeight', 'ggplot', 'grayscale', 'seaborn', 'seaborn-bright', 'seaborn-colorblind', 'seaborn-dark', 'seaborn-dark-palette', 'seaborn-darkgrid', 'seaborn-deep', 'seaborn-muted', 'seaborn-notebook', 'seaborn-paper', 'seaborn-pastel', 'seaborn-poster', 'seaborn-talk', 'seaborn-ticks', 'seaborn-white', 'seaborn-whitegrid', 'tableau-colorblind10']\n"
          ]
        }
      ]
    },
    {
      "cell_type": "markdown",
      "source": [],
      "metadata": {
        "id": "RWy_KvC43yOV"
      }
    },
    {
      "cell_type": "markdown",
      "source": [
        "Lists and Loops"
      ],
      "metadata": {
        "id": "2VzHqnMZt-Wt"
      }
    },
    {
      "cell_type": "code",
      "source": [
        "temps = [0.0, 32.0, 100, 212, 98.6]"
      ],
      "metadata": {
        "id": "7ZYB28n4uCjq"
      },
      "execution_count": 5,
      "outputs": []
    },
    {
      "cell_type": "code",
      "source": [
        " print('first temperature:', temps[0])\n",
        "print('last temperature:', temps [-1])\n",
        "print('middle temperatures:', temps [1:4])"
      ],
      "metadata": {
        "colab": {
          "base_uri": "https://localhost:8080/"
        },
        "id": "TXzS72eSuMGK",
        "outputId": "21b86785-f15d-4e21-bbbc-940c9e94b4eb"
      },
      "execution_count": 6,
      "outputs": [
        {
          "output_type": "stream",
          "name": "stdout",
          "text": [
            "first temperature: 0.0\n",
            "last temperature: 98.6\n",
            "middle temperatures: [32.0, 100, 212]\n"
          ]
        }
      ]
    },
    {
      "cell_type": "code",
      "source": [
        "temps[0]= -5\n",
        "print(temps)"
      ],
      "metadata": {
        "colab": {
          "base_uri": "https://localhost:8080/"
        },
        "id": "CYRNpWhBuWUh",
        "outputId": "37196198-f934-4d67-b22e-0293c14dc714"
      },
      "execution_count": 7,
      "outputs": [
        {
          "output_type": "stream",
          "name": "stdout",
          "text": [
            "[-5, 32.0, 100, 212, 98.6]\n"
          ]
        }
      ]
    },
    {
      "cell_type": "code",
      "source": [
        "temps.append(72)\n",
        "print(temps)"
      ],
      "metadata": {
        "colab": {
          "base_uri": "https://localhost:8080/"
        },
        "id": "aZTVl7dJuyK6",
        "outputId": "7aa85d59-02e8-490e-f183-0beddaa34ca6"
      },
      "execution_count": 8,
      "outputs": [
        {
          "output_type": "stream",
          "name": "stdout",
          "text": [
            "[-5, 32.0, 100, 212, 98.6, 72]\n"
          ]
        }
      ]
    },
    {
      "cell_type": "code",
      "source": [
        "temps.insert(0,0.0)\n",
        "print(temps)"
      ],
      "metadata": {
        "colab": {
          "base_uri": "https://localhost:8080/"
        },
        "id": "oHB_20imu7Uc",
        "outputId": "ddb65799-1a6a-4bfa-9fd6-5eb95216143b"
      },
      "execution_count": 9,
      "outputs": [
        {
          "output_type": "stream",
          "name": "stdout",
          "text": [
            "[0.0, -5, 32.0, 100, 212, 98.6, 72]\n"
          ]
        }
      ]
    },
    {
      "cell_type": "code",
      "source": [
        "temps.insert(-1, -40)\n",
        "print(temps)"
      ],
      "metadata": {
        "colab": {
          "base_uri": "https://localhost:8080/"
        },
        "id": "uXH5hSYPvD6D",
        "outputId": "b0667dc4-d912-4d93-dc55-80375be37df9"
      },
      "execution_count": 11,
      "outputs": [
        {
          "output_type": "stream",
          "name": "stdout",
          "text": [
            "[0.0, -5, 32.0, 100, 212, 98.6, -40, -40, 72]\n"
          ]
        }
      ]
    },
    {
      "cell_type": "code",
      "source": [
        "temps2 = [-45,75,1000]\n",
        "print(temps2)"
      ],
      "metadata": {
        "colab": {
          "base_uri": "https://localhost:8080/"
        },
        "id": "uXtpz2-3vXBO",
        "outputId": "c643fe42-90fc-4de9-9630-59b4803d11f1"
      },
      "execution_count": 14,
      "outputs": [
        {
          "output_type": "stream",
          "name": "stdout",
          "text": [
            "[-45, 75, 1000]\n"
          ]
        }
      ]
    },
    {
      "cell_type": "code",
      "source": [
        "temps.extend(temps2)\n",
        "print(temps)"
      ],
      "metadata": {
        "colab": {
          "base_uri": "https://localhost:8080/"
        },
        "id": "ltVcHW6TvoD1",
        "outputId": "0492b1ad-d803-4d1f-f0a3-577944679076"
      },
      "execution_count": 16,
      "outputs": [
        {
          "output_type": "stream",
          "name": "stdout",
          "text": [
            "[0.0, -5, 32.0, 100, 212, 98.6, -40, -40, 72, -45, 75, 1000]\n"
          ]
        }
      ]
    },
    {
      "cell_type": "code",
      "source": [
        "del temps[6:]\n",
        "print(temps)"
      ],
      "metadata": {
        "colab": {
          "base_uri": "https://localhost:8080/"
        },
        "id": "Pe5IgKg4vwK7",
        "outputId": "e6c74761-2adf-4073-bf2a-6c44e2590336"
      },
      "execution_count": 19,
      "outputs": [
        {
          "output_type": "stream",
          "name": "stdout",
          "text": [
            "[0.0, -5, 32.0, 100, 212, 98.6]\n"
          ]
        }
      ]
    },
    {
      "cell_type": "code",
      "source": [
        "temps.append(98.6)\n",
        "temps.append(212)\n",
        "print(temps)"
      ],
      "metadata": {
        "colab": {
          "base_uri": "https://localhost:8080/"
        },
        "id": "J5qq8Vjtv8x2",
        "outputId": "5c53d640-5126-4ec1-e470-a9e7683e0309"
      },
      "execution_count": 20,
      "outputs": [
        {
          "output_type": "stream",
          "name": "stdout",
          "text": [
            "[0.0, -5, 32.0, 100, 212, 98.6, 98.6, 212]\n"
          ]
        }
      ]
    },
    {
      "cell_type": "code",
      "source": [
        "data = ['large', 25, 'green',62.25]\n",
        "print(data)"
      ],
      "metadata": {
        "colab": {
          "base_uri": "https://localhost:8080/"
        },
        "id": "FIolqwSowFqU",
        "outputId": "9cdba6e3-1a9f-485c-94d0-8d6ed847e6a8"
      },
      "execution_count": 22,
      "outputs": [
        {
          "output_type": "stream",
          "name": "stdout",
          "text": [
            "['large', 25, 'green', 62.25]\n"
          ]
        }
      ]
    },
    {
      "cell_type": "code",
      "source": [
        "print(data[0])"
      ],
      "metadata": {
        "colab": {
          "base_uri": "https://localhost:8080/"
        },
        "id": "NaJTJS2DwP9o",
        "outputId": "a313be61-df90-41ae-bf08-2c50d3b21136"
      },
      "execution_count": 23,
      "outputs": [
        {
          "output_type": "stream",
          "name": "stdout",
          "text": [
            "large\n"
          ]
        }
      ]
    },
    {
      "cell_type": "code",
      "source": [
        "print (data[0][0:3])"
      ],
      "metadata": {
        "colab": {
          "base_uri": "https://localhost:8080/"
        },
        "id": "P_XbqPOuwP3c",
        "outputId": "57436a37-3ee0-4da7-84eb-c6c150500ff6"
      },
      "execution_count": 24,
      "outputs": [
        {
          "output_type": "stream",
          "name": "stdout",
          "text": [
            "lar\n"
          ]
        }
      ]
    },
    {
      "cell_type": "code",
      "source": [
        "print(sorted(temps))"
      ],
      "metadata": {
        "colab": {
          "base_uri": "https://localhost:8080/"
        },
        "id": "VjH7hE2bwcgV",
        "outputId": "99bf1c49-e70c-4369-bb32-11c509c293a6"
      },
      "execution_count": 25,
      "outputs": [
        {
          "output_type": "stream",
          "name": "stdout",
          "text": [
            "[-5, 0.0, 32.0, 98.6, 98.6, 100, 212, 212]\n"
          ]
        }
      ]
    },
    {
      "cell_type": "code",
      "source": [
        "print(temps)"
      ],
      "metadata": {
        "colab": {
          "base_uri": "https://localhost:8080/"
        },
        "id": "rgFOSRWCwjau",
        "outputId": "cb3b7e2d-cffb-4af5-a82f-28f36a41a715"
      },
      "execution_count": 26,
      "outputs": [
        {
          "output_type": "stream",
          "name": "stdout",
          "text": [
            "[0.0, -5, 32.0, 100, 212, 98.6, 98.6, 212]\n"
          ]
        }
      ]
    },
    {
      "cell_type": "code",
      "source": [
        "temps.sort()"
      ],
      "metadata": {
        "id": "8xYXe5ErwmDX"
      },
      "execution_count": 27,
      "outputs": []
    },
    {
      "cell_type": "code",
      "source": [
        "print(temps)"
      ],
      "metadata": {
        "colab": {
          "base_uri": "https://localhost:8080/"
        },
        "id": "h2CTOvfwwpvW",
        "outputId": "49df94b5-1967-42a8-d789-ed18872f97f3"
      },
      "execution_count": 28,
      "outputs": [
        {
          "output_type": "stream",
          "name": "stdout",
          "text": [
            "[-5, 0.0, 32.0, 98.6, 98.6, 100, 212, 212]\n"
          ]
        }
      ]
    },
    {
      "cell_type": "code",
      "source": [
        "for temp in temps:\n",
        "  print(temp)"
      ],
      "metadata": {
        "colab": {
          "base_uri": "https://localhost:8080/"
        },
        "id": "pk7fY0fgw18o",
        "outputId": "c6d5c516-f16b-48f9-9994-95804ea2f9b9"
      },
      "execution_count": 29,
      "outputs": [
        {
          "output_type": "stream",
          "name": "stdout",
          "text": [
            "-5\n",
            "0.0\n",
            "32.0\n",
            "98.6\n",
            "98.6\n",
            "100\n",
            "212\n",
            "212\n"
          ]
        }
      ]
    },
    {
      "cell_type": "code",
      "source": [
        "for x in temps:\n",
        "  print(x)"
      ],
      "metadata": {
        "colab": {
          "base_uri": "https://localhost:8080/"
        },
        "id": "iHqQU0PDxnaA",
        "outputId": "b5559fb8-9e7b-4e1f-ad87-dd8d55d2d83a"
      },
      "execution_count": 30,
      "outputs": [
        {
          "output_type": "stream",
          "name": "stdout",
          "text": [
            "-5\n",
            "0.0\n",
            "32.0\n",
            "98.6\n",
            "98.6\n",
            "100\n",
            "212\n",
            "212\n"
          ]
        }
      ]
    },
    {
      "cell_type": "code",
      "source": [
        "magnitude =[]\n",
        "for x in [1,2,3,4,5]:\n",
        "  y=x*10\n",
        "  magnitude.append(y)\n",
        "print(magnitude)"
      ],
      "metadata": {
        "colab": {
          "base_uri": "https://localhost:8080/"
        },
        "id": "ItnvLocqxyWz",
        "outputId": "09cbba8a-6be6-478a-a560-4e4e53770da9"
      },
      "execution_count": 33,
      "outputs": [
        {
          "output_type": "stream",
          "name": "stdout",
          "text": [
            "[10, 20, 30, 40, 50]\n"
          ]
        }
      ]
    },
    {
      "cell_type": "code",
      "source": [
        "import math as m\n",
        "for x in [1,2,3,4,5]:\n",
        "  sq=x ** 3\n",
        "  cb=x ** 3\n",
        "  log = m.log(x)\n",
        "\n",
        "  print(x,sq,cb,log)"
      ],
      "metadata": {
        "colab": {
          "base_uri": "https://localhost:8080/"
        },
        "id": "qtE_IpT9ytTS",
        "outputId": "ee37b122-0c41-4da0-f641-289725bbc1c1"
      },
      "execution_count": 36,
      "outputs": [
        {
          "output_type": "stream",
          "name": "stdout",
          "text": [
            "1 1 1 0.0\n",
            "2 8 8 0.6931471805599453\n",
            "3 27 27 1.0986122886681098\n",
            "4 64 64 1.3862943611198906\n",
            "5 125 125 1.6094379124341003\n"
          ]
        }
      ]
    },
    {
      "cell_type": "code",
      "source": [
        "ls =[]\n",
        "for x in range(10,1000):\n",
        "  ls.append(x*x)\n",
        "print(ls[42])"
      ],
      "metadata": {
        "colab": {
          "base_uri": "https://localhost:8080/"
        },
        "id": "_Yg557R6zUVL",
        "outputId": "c314c358-8863-403a-f699-040bd2ab8da3"
      },
      "execution_count": 39,
      "outputs": [
        {
          "output_type": "stream",
          "name": "stdout",
          "text": [
            "2704\n"
          ]
        }
      ]
    },
    {
      "cell_type": "markdown",
      "source": [
        "### Conditionals"
      ],
      "metadata": {
        "id": "iWeLJIVSzr-L"
      }
    },
    {
      "cell_type": "code",
      "source": [
        "temp=200\n",
        "if temp <200:\n",
        "  print('TOO COLD')\n",
        "elif temp >200:\n",
        "  print('TOO HOT')\n",
        "else:\n",
        "  print('JUST RIGHT')"
      ],
      "metadata": {
        "colab": {
          "base_uri": "https://localhost:8080/"
        },
        "id": "U9jmrybrzvLo",
        "outputId": "9d3b00ba-fb10-4cbf-d449-ba1c5dd8d8fa"
      },
      "execution_count": 41,
      "outputs": [
        {
          "output_type": "stream",
          "name": "stdout",
          "text": [
            "JUST RIGHT\n"
          ]
        }
      ]
    },
    {
      "cell_type": "code",
      "source": [
        "print(temps)"
      ],
      "metadata": {
        "colab": {
          "base_uri": "https://localhost:8080/"
        },
        "id": "s9cR9Dv_0SMX",
        "outputId": "1c3e96be-13d1-42f5-de8b-8966160077e0"
      },
      "execution_count": 42,
      "outputs": [
        {
          "output_type": "stream",
          "name": "stdout",
          "text": [
            "[-5, 0.0, 32.0, 98.6, 98.6, 100, 212, 212]\n"
          ]
        }
      ]
    },
    {
      "cell_type": "code",
      "source": [
        "for temp in temps:\n",
        "  if temp <98.6:\n",
        "    print('TOO COLD')\n",
        "  elif temp >98.6:\n",
        "    print('TOO HOT')\n",
        "  else:\n",
        "    print('JUST RIGHT')"
      ],
      "metadata": {
        "colab": {
          "base_uri": "https://localhost:8080/"
        },
        "id": "vIf4FQrb0Uj1",
        "outputId": "483c8aba-1607-4ee3-b253-4ca80974fddc"
      },
      "execution_count": 45,
      "outputs": [
        {
          "output_type": "stream",
          "name": "stdout",
          "text": [
            "TOO COLD\n",
            "TOO COLD\n",
            "TOO COLD\n",
            "JUST RIGHT\n",
            "JUST RIGHT\n",
            "TOO HOT\n",
            "TOO HOT\n",
            "TOO HOT\n"
          ]
        }
      ]
    },
    {
      "cell_type": "code",
      "source": [
        "dummy = 1\n",
        "while dummy <= 10:\n",
        "  print(dummy)\n",
        "  dummy+=1"
      ],
      "metadata": {
        "colab": {
          "base_uri": "https://localhost:8080/"
        },
        "id": "wy8etyVw1js4",
        "outputId": "b0adcfff-eb8c-4d9c-eaed-4a18340b71db"
      },
      "execution_count": 46,
      "outputs": [
        {
          "output_type": "stream",
          "name": "stdout",
          "text": [
            "1\n",
            "2\n",
            "3\n",
            "4\n",
            "5\n",
            "6\n",
            "7\n",
            "8\n",
            "9\n",
            "10\n"
          ]
        }
      ]
    },
    {
      "cell_type": "markdown",
      "source": [
        "### Looping Over Datasets"
      ],
      "metadata": {
        "id": "RZwLnJXm2AIz"
      }
    },
    {
      "cell_type": "code",
      "source": [
        "!curl -L -o PracCompPyData.zip http://bit.ly/PracCompPyData\n",
        "!unzip PracCompPyData.zip"
      ],
      "metadata": {
        "colab": {
          "base_uri": "https://localhost:8080/"
        },
        "id": "IXiS2SuM2aCR",
        "outputId": "355a7bd2-eada-4a77-daa8-fd480c7641ba"
      },
      "execution_count": 47,
      "outputs": [
        {
          "output_type": "stream",
          "name": "stdout",
          "text": [
            "  % Total    % Received % Xferd  Average Speed   Time    Time     Time  Current\n",
            "                                 Dload  Upload   Total   Spent    Left  Speed\n",
            "100   137  100   137    0     0   3113      0 --:--:-- --:--:-- --:--:--  3113\n",
            "100   116    0   116    0     0    339      0 --:--:-- --:--:-- --:--:--   640\n",
            "100   340  100   340    0     0    576      0 --:--:-- --:--:-- --:--:--   576\n",
            "100   534    0   534    0     0    508      0 --:--:--  0:00:01 --:--:--   508\n",
            "100 38179  100 38179    0     0  28923      0  0:00:01  0:00:01 --:--:--  423k\n",
            "Archive:  PracCompPyData.zip\n",
            "  inflating: data/gapminder_all.csv  \n",
            "  inflating: data/gapminder_gdp_africa.csv  \n",
            "  inflating: data/gapminder_gdp_americas.csv  \n",
            "  inflating: data/gapminder_gdp_asia.csv  \n",
            "  inflating: data/gapminder_gdp_europe.csv  \n",
            "  inflating: data/gapminder_gdp_oceania.csv  \n"
          ]
        }
      ]
    },
    {
      "cell_type": "code",
      "source": [
        "import pandas as pd\n",
        "for FileName in ['data/gapminder_gdp_americas.csv', 'data/gapminder_gdp_asia.csv']:\n",
        "  data = pd.read_csv(FileName, index_col= 'country')\n",
        "  print(FileName,data.min())"
      ],
      "metadata": {
        "colab": {
          "base_uri": "https://localhost:8080/"
        },
        "id": "qAKQyfGs2FIj",
        "outputId": "ecb98c96-abc7-4813-9428-6b91d1c28f6f"
      },
      "execution_count": 49,
      "outputs": [
        {
          "output_type": "stream",
          "name": "stdout",
          "text": [
            "data/gapminder_gdp_americas.csv continent            Americas\n",
            "gdpPercap_1952    1397.717137\n",
            "gdpPercap_1957    1544.402995\n",
            "gdpPercap_1962    1662.137359\n",
            "gdpPercap_1967    1452.057666\n",
            "gdpPercap_1972    1654.456946\n",
            "gdpPercap_1977    1874.298931\n",
            "gdpPercap_1982    2011.159549\n",
            "gdpPercap_1987    1823.015995\n",
            "gdpPercap_1992    1456.309517\n",
            "gdpPercap_1997    1341.726931\n",
            "gdpPercap_2002    1270.364932\n",
            "gdpPercap_2007    1201.637154\n",
            "dtype: object\n",
            "data/gapminder_gdp_asia.csv gdpPercap_1952    331.0\n",
            "gdpPercap_1957    350.0\n",
            "gdpPercap_1962    388.0\n",
            "gdpPercap_1967    349.0\n",
            "gdpPercap_1972    357.0\n",
            "gdpPercap_1977    371.0\n",
            "gdpPercap_1982    424.0\n",
            "gdpPercap_1987    385.0\n",
            "gdpPercap_1992    347.0\n",
            "gdpPercap_1997    415.0\n",
            "gdpPercap_2002    611.0\n",
            "gdpPercap_2007    944.0\n",
            "dtype: float64\n"
          ]
        }
      ]
    },
    {
      "cell_type": "code",
      "source": [
        "import glob\n",
        "print('all csv files:', glob.glob('data/gapminder_*.csv'))"
      ],
      "metadata": {
        "colab": {
          "base_uri": "https://localhost:8080/"
        },
        "id": "oIP_gFqw3YgS",
        "outputId": "919689be-66e0-4c7a-f50d-233ddb22f930"
      },
      "execution_count": 51,
      "outputs": [
        {
          "output_type": "stream",
          "name": "stdout",
          "text": [
            "all csv files: ['data/gapminder_gdp_europe.csv', 'data/gapminder_gdp_americas.csv', 'data/gapminder_gdp_oceania.csv', 'data/gapminder_gdp_africa.csv', 'data/gapminder_gdp_asia.csv', 'data/gapminder_all.csv']\n"
          ]
        }
      ]
    },
    {
      "cell_type": "code",
      "source": [
        "for FileName in glob.glob('data/gapminder_gdp*.csv'):\n",
        "  data = pd.read_csv(FileName)\n",
        "  print(FileName, 'GDP_1977_Minimum', data['gdpPercap_1977'].min())"
      ],
      "metadata": {
        "colab": {
          "base_uri": "https://localhost:8080/"
        },
        "id": "MFestUsd3uBo",
        "outputId": "2bc77bcb-8cff-4c17-f719-1d7802296d32"
      },
      "execution_count": 53,
      "outputs": [
        {
          "output_type": "stream",
          "name": "stdout",
          "text": [
            "data/gapminder_gdp_europe.csv GDP_1977_Minimum 3528.481305\n",
            "data/gapminder_gdp_americas.csv GDP_1977_Minimum 1874.298931\n",
            "data/gapminder_gdp_oceania.csv GDP_1977_Minimum 16233.7177\n",
            "data/gapminder_gdp_africa.csv GDP_1977_Minimum 502.3197334\n",
            "data/gapminder_gdp_asia.csv GDP_1977_Minimum 371.0\n"
          ]
        }
      ]
    },
    {
      "cell_type": "code",
      "source": [
        "for FileName in glob.glob('data/gapminder_gdp*.csv'):\n",
        "  data = pd.read_csv(FileName)\n",
        "  print(FileName, 'GDP_2007_Minimum', data['gdpPercap_2007'].min())"
      ],
      "metadata": {
        "colab": {
          "base_uri": "https://localhost:8080/"
        },
        "id": "OaIJ57xo4e2s",
        "outputId": "9c54816e-79bc-4dc4-cb4a-2fb741e1b70e"
      },
      "execution_count": 54,
      "outputs": [
        {
          "output_type": "stream",
          "name": "stdout",
          "text": [
            "data/gapminder_gdp_europe.csv GDP_2007_Minimum 5937.029526\n",
            "data/gapminder_gdp_americas.csv GDP_2007_Minimum 1201.637154\n",
            "data/gapminder_gdp_oceania.csv GDP_2007_Minimum 25185.00911\n",
            "data/gapminder_gdp_africa.csv GDP_2007_Minimum 277.5518587\n",
            "data/gapminder_gdp_asia.csv GDP_2007_Minimum 944.0\n"
          ]
        }
      ]
    },
    {
      "cell_type": "markdown",
      "source": [
        "## Functions"
      ],
      "metadata": {
        "id": "Qb7_PMSA45oL"
      }
    },
    {
      "cell_type": "code",
      "source": [
        "InitCtemp = 0\n",
        "Ftemp=(9/5)*float(InitCtemp)+32\n",
        "print(Ftemp)"
      ],
      "metadata": {
        "colab": {
          "base_uri": "https://localhost:8080/"
        },
        "id": "lpLUkeL0474Q",
        "outputId": "9571f99c-7212-4f35-a58d-802120c9915d"
      },
      "execution_count": 55,
      "outputs": [
        {
          "output_type": "stream",
          "name": "stdout",
          "text": [
            "32.0\n"
          ]
        }
      ]
    },
    {
      "cell_type": "code",
      "source": [
        "def temp_cov(temp, scale):\n",
        "  if scale.upper() == 'C' or scale.upper()=='CELSIUS':\n",
        "   #print(str(temp)+ ' C = '+str((9/5)*float(temp)+32)+' F')\n",
        "   return(str((9/5)*float(temp)+32))\n",
        "  elif scale.upper() =='F' or scale.upper()=='FAHRENHEIT':\n",
        "    #print(str(temp)+ ' F '+str((5/9)*float(temp)-32)+' C')\n",
        "    return(str((5/9)*float(temp)-32))\n",
        "  else:\n",
        "    print('You made a mistake')\n",
        "  "
      ],
      "metadata": {
        "id": "8ZKQUUJO5M6n"
      },
      "execution_count": 84,
      "outputs": []
    },
    {
      "cell_type": "code",
      "source": [
        "temp_cov(98.6, 'fahrenheit')"
      ],
      "metadata": {
        "colab": {
          "base_uri": "https://localhost:8080/",
          "height": 36
        },
        "id": "TE48eVMl5xnm",
        "outputId": "d90217c9-0eb9-401e-ed06-18ddd4a06c0a"
      },
      "execution_count": 85,
      "outputs": [
        {
          "output_type": "execute_result",
          "data": {
            "text/plain": [
              "'22.77777777777778'"
            ],
            "application/vnd.google.colaboratory.intrinsic+json": {
              "type": "string"
            }
          },
          "metadata": {},
          "execution_count": 85
        }
      ]
    },
    {
      "cell_type": "code",
      "source": [
        "new_temps=[]\n",
        "for x in temps:\n",
        "  y=float(temp_cov(x, 'F'))\n",
        "  #print(type(y))\n",
        "  new_temps.append(y)"
      ],
      "metadata": {
        "id": "6nqD3p1b7z9E"
      },
      "execution_count": 86,
      "outputs": []
    },
    {
      "cell_type": "code",
      "source": [
        "print(new_temps)"
      ],
      "metadata": {
        "colab": {
          "base_uri": "https://localhost:8080/"
        },
        "id": "3-nqIjrq8LjA",
        "outputId": "6b304bbb-8502-49b3-ad73-cbe900c95c6c"
      },
      "execution_count": 87,
      "outputs": [
        {
          "output_type": "stream",
          "name": "stdout",
          "text": [
            "[-34.77777777777778, -32.0, -14.222222222222221, 22.77777777777778, 22.77777777777778, 23.555555555555557, 85.77777777777779, 85.77777777777779]\n"
          ]
        }
      ]
    }
  ]
}